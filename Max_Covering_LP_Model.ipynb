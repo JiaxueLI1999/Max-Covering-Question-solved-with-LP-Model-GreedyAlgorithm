{
 "cells": [
  {
   "cell_type": "code",
   "execution_count": 1,
   "metadata": {
    "colab": {
     "base_uri": "https://localhost:8080/"
    },
    "id": "GySCvaRb2M1U",
    "outputId": "89608f63-3fcf-44a5-d4ac-61b0e5959b9f"
   },
   "outputs": [
    {
     "name": "stdout",
     "output_type": "stream",
     "text": [
      "Requirement already satisfied: pulp in c:\\users\\cheri\\anaconda3\\lib\\site-packages (2.6.0)\n"
     ]
    }
   ],
   "source": [
    "!pip install pulp"
   ]
  },
  {
   "cell_type": "code",
   "execution_count": 2,
   "metadata": {
    "id": "j78FajlR2Mx6"
   },
   "outputs": [],
   "source": [
    "from pulp import *"
   ]
  },
  {
   "cell_type": "code",
   "execution_count": 3,
   "metadata": {},
   "outputs": [],
   "source": [
    "#declare the model\n",
    "model = LpProblem('Maximum', LpMaximize)"
   ]
  },
  {
   "cell_type": "code",
   "execution_count": 4,
   "metadata": {
    "id": "2lG9q-NWbXjG"
   },
   "outputs": [
    {
     "data": {
      "text/plain": [
       "{'A': 10, 'B': 8, 'C': 22, 'D': 18, 'E': 7, 'F': 55}"
      ]
     },
     "execution_count": 4,
     "metadata": {},
     "output_type": "execute_result"
    }
   ],
   "source": [
    "#make the list of nodes\n",
    "zones = ['A', 'B', 'C', 'D', 'E', 'F']\n",
    "zones2 = ['A', 'B', 'C', 'D', 'E', 'F']\n",
    "P = 4\n",
    "K = 11\n",
    "#demand of each nodes\n",
    "demand = [10,8,22,18,7,55]\n",
    "zone_demand = dict(zip(zones, demand))\n",
    "zone_demand"
   ]
  },
  {
   "cell_type": "code",
   "execution_count": 5,
   "metadata": {
    "colab": {
     "base_uri": "https://localhost:8080/"
    },
    "id": "MoI3L14lv2Y3",
    "outputId": "2780a0f4-bacc-4cf9-f97e-b66af8bcbb18"
   },
   "outputs": [
    {
     "data": {
      "text/plain": [
       "{('A', 'A'): 0,\n",
       " ('A', 'B'): 8,\n",
       " ('A', 'C'): 15,\n",
       " ('A', 'D'): 10,\n",
       " ('A', 'E'): 1000,\n",
       " ('A', 'F'): 1000,\n",
       " ('B', 'A'): 8,\n",
       " ('B', 'B'): 0,\n",
       " ('B', 'C'): 12,\n",
       " ('B', 'D'): 7,\n",
       " ('B', 'E'): 16,\n",
       " ('B', 'F'): 1000,\n",
       " ('C', 'A'): 15,\n",
       " ('C', 'B'): 12,\n",
       " ('C', 'C'): 0,\n",
       " ('C', 'D'): 1000,\n",
       " ('C', 'E'): 9,\n",
       " ('C', 'F'): 11,\n",
       " ('D', 'A'): 10,\n",
       " ('D', 'B'): 7,\n",
       " ('D', 'C'): 1000,\n",
       " ('D', 'D'): 0,\n",
       " ('D', 'E'): 11,\n",
       " ('D', 'F'): 17,\n",
       " ('E', 'A'): 1000,\n",
       " ('E', 'B'): 16,\n",
       " ('E', 'C'): 9,\n",
       " ('E', 'D'): 11,\n",
       " ('E', 'E'): 0,\n",
       " ('E', 'F'): 13,\n",
       " ('F', 'A'): 1000,\n",
       " ('F', 'B'): 1000,\n",
       " ('F', 'C'): 11,\n",
       " ('F', 'D'): 17,\n",
       " ('F', 'E'): 13,\n",
       " ('F', 'F'): 0}"
      ]
     },
     "execution_count": 5,
     "metadata": {},
     "output_type": "execute_result"
    }
   ],
   "source": [
    "# keys / index for decision variables / parameters\n",
    "keys = [(l,l2) for l in zones for l2 in zones2]\n",
    "length = [0,8,15,10,1000,1000,\n",
    "          8,0,12,7,16,1000,\n",
    "          15,12,0,1000,9,11,\n",
    "          10,7,1000,0,11,17,\n",
    "          1000,16,9,11,0,13,\n",
    "          1000,1000,11,17,13,0]\n",
    "keys\n",
    "#define the distance between two nodes\n",
    "distance = dict(zip(keys, length))\n",
    "distance"
   ]
  },
  {
   "cell_type": "code",
   "execution_count": 6,
   "metadata": {},
   "outputs": [
    {
     "data": {
      "text/plain": [
       "15"
      ]
     },
     "execution_count": 6,
     "metadata": {},
     "output_type": "execute_result"
    }
   ],
   "source": [
    "distance[('A','C')]"
   ]
  },
  {
   "cell_type": "code",
   "execution_count": 7,
   "metadata": {
    "colab": {
     "base_uri": "https://localhost:8080/"
    },
    "id": "YbbPvoP42ePd",
    "outputId": "c8907418-d70b-4351-b588-f1252c8cbd47",
    "scrolled": true
   },
   "outputs": [],
   "source": [
    "# declare the decision variables \n",
    "#(name, keys, bounds (0, inf), cat = integer, continuous, binary)\n",
    "k = LpVariable.dicts('counted', keys, cat = 'Binary')\n",
    "x = LpVariable.dicts('facility_location', zones, cat = 'Binary')\n",
    "z = LpVariable.dicts('covered', zones, cat = 'Binary')"
   ]
  },
  {
   "cell_type": "code",
   "execution_count": 8,
   "metadata": {},
   "outputs": [
    {
     "data": {
      "text/plain": [
       "{('A', 'A'): counted_('A',_'A'),\n",
       " ('A', 'B'): counted_('A',_'B'),\n",
       " ('A', 'C'): counted_('A',_'C'),\n",
       " ('A', 'D'): counted_('A',_'D'),\n",
       " ('A', 'E'): counted_('A',_'E'),\n",
       " ('A', 'F'): counted_('A',_'F'),\n",
       " ('B', 'A'): counted_('B',_'A'),\n",
       " ('B', 'B'): counted_('B',_'B'),\n",
       " ('B', 'C'): counted_('B',_'C'),\n",
       " ('B', 'D'): counted_('B',_'D'),\n",
       " ('B', 'E'): counted_('B',_'E'),\n",
       " ('B', 'F'): counted_('B',_'F'),\n",
       " ('C', 'A'): counted_('C',_'A'),\n",
       " ('C', 'B'): counted_('C',_'B'),\n",
       " ('C', 'C'): counted_('C',_'C'),\n",
       " ('C', 'D'): counted_('C',_'D'),\n",
       " ('C', 'E'): counted_('C',_'E'),\n",
       " ('C', 'F'): counted_('C',_'F'),\n",
       " ('D', 'A'): counted_('D',_'A'),\n",
       " ('D', 'B'): counted_('D',_'B'),\n",
       " ('D', 'C'): counted_('D',_'C'),\n",
       " ('D', 'D'): counted_('D',_'D'),\n",
       " ('D', 'E'): counted_('D',_'E'),\n",
       " ('D', 'F'): counted_('D',_'F'),\n",
       " ('E', 'A'): counted_('E',_'A'),\n",
       " ('E', 'B'): counted_('E',_'B'),\n",
       " ('E', 'C'): counted_('E',_'C'),\n",
       " ('E', 'D'): counted_('E',_'D'),\n",
       " ('E', 'E'): counted_('E',_'E'),\n",
       " ('E', 'F'): counted_('E',_'F'),\n",
       " ('F', 'A'): counted_('F',_'A'),\n",
       " ('F', 'B'): counted_('F',_'B'),\n",
       " ('F', 'C'): counted_('F',_'C'),\n",
       " ('F', 'D'): counted_('F',_'D'),\n",
       " ('F', 'E'): counted_('F',_'E'),\n",
       " ('F', 'F'): counted_('F',_'F')}"
      ]
     },
     "execution_count": 8,
     "metadata": {},
     "output_type": "execute_result"
    }
   ],
   "source": [
    "#new binary varible that shows if the nodes was consifered or not\n",
    "k"
   ]
  },
  {
   "cell_type": "code",
   "execution_count": 9,
   "metadata": {},
   "outputs": [
    {
     "data": {
      "text/plain": [
       "{'A': facility_location_A,\n",
       " 'B': facility_location_B,\n",
       " 'C': facility_location_C,\n",
       " 'D': facility_location_D,\n",
       " 'E': facility_location_E,\n",
       " 'F': facility_location_F}"
      ]
     },
     "execution_count": 9,
     "metadata": {},
     "output_type": "execute_result"
    }
   ],
   "source": [
    "#binary varible that shows if the nodes was locateded or not\n",
    "x"
   ]
  },
  {
   "cell_type": "code",
   "execution_count": 10,
   "metadata": {},
   "outputs": [
    {
     "data": {
      "text/plain": [
       "{'A': covered_A,\n",
       " 'B': covered_B,\n",
       " 'C': covered_C,\n",
       " 'D': covered_D,\n",
       " 'E': covered_E,\n",
       " 'F': covered_F}"
      ]
     },
     "execution_count": 10,
     "metadata": {},
     "output_type": "execute_result"
    }
   ],
   "source": [
    "#binary varible that shows if the nodes was covered or not\n",
    "z"
   ]
  },
  {
   "cell_type": "code",
   "execution_count": 11,
   "metadata": {},
   "outputs": [],
   "source": [
    "#define the k\n",
    "for l in zones:\n",
    "    for l2 in zones2:\n",
    "        if distance [(l,l2)] <=11:\n",
    "            k[(l,l2)] = 1\n",
    "        else:\n",
    "            k[(l,l2)] = 0   "
   ]
  },
  {
   "cell_type": "code",
   "execution_count": 12,
   "metadata": {},
   "outputs": [
    {
     "data": {
      "text/plain": [
       "1"
      ]
     },
     "execution_count": 12,
     "metadata": {},
     "output_type": "execute_result"
    }
   ],
   "source": [
    "k[(l,l2)]"
   ]
  },
  {
   "cell_type": "code",
   "execution_count": 13,
   "metadata": {
    "colab": {
     "base_uri": "https://localhost:8080/",
     "height": 276
    },
    "id": "SBV9PO7hv2hB",
    "outputId": "28f26cc4-cfa5-4325-f26c-2d49d0bb4e5f"
   },
   "outputs": [],
   "source": [
    "# objective function\n",
    "model += lpSum(zone_demand[(l)]*z[(l)] for l in zones)"
   ]
  },
  {
   "cell_type": "code",
   "execution_count": 14,
   "metadata": {},
   "outputs": [],
   "source": [
    "#try different orders for constraint\n",
    "#for l in zones:\n",
    "    #for l2 in zones2:\n",
    "        #print(x[(l)],k[(l,l2)])\n",
    "        #print()"
   ]
  },
  {
   "cell_type": "code",
   "execution_count": 15,
   "metadata": {
    "scrolled": true
   },
   "outputs": [],
   "source": [
    "#try different orders for constraint\n",
    "#for l2 in zones2:\n",
    "    #for l in zones:\n",
    "        #print(x[(l)],k[(l,l2)])\n",
    "        #print()"
   ]
  },
  {
   "cell_type": "code",
   "execution_count": 16,
   "metadata": {},
   "outputs": [],
   "source": [
    "#constraint 1\n",
    "for l2 in zones2:\n",
    "    model += lpSum(x[(l)]*k[(l,l2)]for l in zones) >= z[(l)]"
   ]
  },
  {
   "cell_type": "code",
   "execution_count": 17,
   "metadata": {},
   "outputs": [],
   "source": [
    "# constraint 2\n",
    "model += lpSum(x[(l)] for l in zones) <= P"
   ]
  },
  {
   "cell_type": "code",
   "execution_count": 18,
   "metadata": {},
   "outputs": [
    {
     "data": {
      "text/plain": [
       "1"
      ]
     },
     "execution_count": 18,
     "metadata": {},
     "output_type": "execute_result"
    }
   ],
   "source": [
    "#solve the model\n",
    "model.solve()"
   ]
  },
  {
   "cell_type": "code",
   "execution_count": 19,
   "metadata": {},
   "outputs": [
    {
     "data": {
      "text/plain": [
       "120.0"
      ]
     },
     "execution_count": 19,
     "metadata": {},
     "output_type": "execute_result"
    }
   ],
   "source": [
    "#maximum coverage/objective value\n",
    "value(model.objective)"
   ]
  },
  {
   "cell_type": "code",
   "execution_count": 20,
   "metadata": {},
   "outputs": [
    {
     "name": "stdout",
     "output_type": "stream",
     "text": [
      "A located 1.0\n",
      "B located 0.0\n",
      "C located 1.0\n",
      "D located 0.0\n",
      "E located 0.0\n",
      "F located 0.0\n"
     ]
    }
   ],
   "source": [
    "#get the solution for locations\n",
    "for i in x:\n",
    "    print('{} located {}'.format(i, x[i].varValue))"
   ]
  },
  {
   "cell_type": "code",
   "execution_count": 21,
   "metadata": {},
   "outputs": [
    {
     "name": "stdout",
     "output_type": "stream",
     "text": [
      "A covered 1.0\n",
      "B covered 1.0\n",
      "C covered 1.0\n",
      "D covered 1.0\n",
      "E covered 1.0\n",
      "F covered 1.0\n"
     ]
    }
   ],
   "source": [
    "#get the details that every nodes were covered\n",
    "for i in z:\n",
    "    print('{} covered {}'.format(i, z[i].varValue))"
   ]
  },
  {
   "cell_type": "code",
   "execution_count": 22,
   "metadata": {
    "id": "X1NcyOV4eu1L"
   },
   "outputs": [],
   "source": [
    "#try may drawn the network\n",
    "import networkx"
   ]
  },
  {
   "cell_type": "code",
   "execution_count": 23,
   "metadata": {
    "id": "xEjFqGbQevKa"
   },
   "outputs": [],
   "source": [
    "left = tuple(\"FFDCABABDBCBEBEDECEF\")\n",
    "right = tuple(\"DCAABABDBCBEBEDECEF\")\n",
    "graph = networkx.Graph()"
   ]
  },
  {
   "cell_type": "code",
   "execution_count": 24,
   "metadata": {
    "colab": {
     "base_uri": "https://localhost:8080/"
    },
    "id": "dPjILhpxexW2",
    "outputId": "7450450b-21cb-4a45-8de6-20803e75fa09"
   },
   "outputs": [
    {
     "data": {
      "text/plain": [
       "<networkx.classes.graph.Graph at 0x1de1b29c2b0>"
      ]
     },
     "execution_count": 24,
     "metadata": {},
     "output_type": "execute_result"
    }
   ],
   "source": [
    "graph"
   ]
  },
  {
   "cell_type": "code",
   "execution_count": 27,
   "metadata": {
    "colab": {
     "base_uri": "https://localhost:8080/",
     "height": 319
    },
    "id": "1d461PYmeyPR",
    "outputId": "e111d328-b2f7-4d5c-9368-118cd2bfbf1d"
   },
   "outputs": [
    {
     "data": {
      "image/png": "[encoded data removed]",
      "text/plain": [
       "<Figure size 432x288 with 1 Axes>"
      ]
     },
     "metadata": {},
     "output_type": "display_data"
    }
   ],
   "source": [
    "graph.add_edges_from(list(zip(left, right)))\n",
    "networkx.draw(graph, with_labels=True)"
   ]
  },
  {
   "cell_type": "code",
   "execution_count": null,
   "metadata": {},
   "outputs": [],
   "source": []
  },
  {
   "cell_type": "code",
   "execution_count": null,
   "metadata": {},
   "outputs": [],
   "source": []
  }
 ],
 "metadata": {
  "colab": {
   "name": "Untitled0.ipynb",
   "provenance": []
  },
  "kernelspec": {
   "display_name": "Python 3 (ipykernel)",
   "language": "python",
   "name": "python3"
  },
  "language_info": {
   "codemirror_mode": {
    "name": "ipython",
    "version": 3
   },
   "file_extension": ".py",
   "mimetype": "text/x-python",
   "name": "python",
   "nbconvert_exporter": "python",
   "pygments_lexer": "ipython3",
   "version": "3.9.7"
  }
 },
 "nbformat": 4,
 "nbformat_minor": 1
}
