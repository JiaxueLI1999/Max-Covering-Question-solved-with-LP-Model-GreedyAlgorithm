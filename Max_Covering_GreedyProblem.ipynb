{
 "cells": [
  {
   "cell_type": "markdown",
   "id": "af74dccd",
   "metadata": {},
   "source": [
    "# Maximum Covering Problem\n",
    "\n",
    "\n",
    "## Greedy Problem\n",
    "\n",
    "\n",
    "Jiaxue Li,\n",
    "Denisse Lopez\n"
   ]
  },
  {
   "cell_type": "code",
   "execution_count": 1,
   "id": "e31915c2",
   "metadata": {},
   "outputs": [],
   "source": [
    "zones = ['A', 'B', 'C', 'D', 'E', 'F']\n",
    "demand= [10,   8,   22,  18,  7,   55]\n",
    "\n",
    "routes = [\n",
    "    [1,1,0,1,0,0],\n",
    "    [1,1,0,1,0,0],\n",
    "    [0,0,1,0,1,1],\n",
    "    [1,1,0,1,1,0],\n",
    "    [0,0,1,1,1,0],\n",
    "    [0,0,1,0,0,1]]\n",
    "\n",
    "total_demand = sum(demand)\n",
    "# total demand = 120\n",
    "\n",
    "# number of sites to locate\n",
    "P = 5"
   ]
  },
  {
   "cell_type": "code",
   "execution_count": 5,
   "id": "42d53d0a",
   "metadata": {
    "scrolled": true
   },
   "outputs": [],
   "source": [
    "def MaxCovering(zones, routes, demand, P):\n",
    "    # Save facility location and the demand consider per location\n",
    "    facility_located = []\n",
    "    facility_demand_covered = []\n",
    "    \n",
    "    # Have P site been located or are all demands covered?\n",
    "    for i in range(P):\n",
    "        if total_demand == sum(facility_demand_covered):\n",
    "            return facility_located, facility_demand_covered\n",
    "        else: \n",
    "            \n",
    "            # Find Candidates Sites Covering Demand\n",
    "            Demand_covered = []\n",
    "            for i in range(len(demand)):\n",
    "                value = 0\n",
    "                for j in range(len(routes[i])):\n",
    "                    value += routes[i][j] *demand[j]\n",
    "                Demand_covered.append(value)\n",
    "            \n",
    "            # Find : Candidate site that covers the most uncovered demand\n",
    "            max_demand_covered = max(Demand_covered)\n",
    "            maxindex_demand_covered = Demand_covered.index(max_demand_covered)\n",
    "\n",
    "            # Save Facility Location and Demand\n",
    "            facility_located.append(zones[maxindex_demand_covered])\n",
    "            facility_demand_covered.append(max_demand_covered)\n",
    "\n",
    "            # find the nodes covered by the facility located\n",
    "            item = 1\n",
    "            indexes = [i for i, j in enumerate(routes[maxindex_demand_covered]) if j == item]\n",
    "\n",
    "            # update cover demand\n",
    "            for i in range(len(routes)):\n",
    "                for j in indexes:\n",
    "                    routes[i][j] = 0\n"
   ]
  },
  {
   "cell_type": "code",
   "execution_count": null,
   "id": "5a17d638",
   "metadata": {},
   "outputs": [],
   "source": []
  },
  {
   "cell_type": "code",
   "execution_count": 3,
   "id": "e1c835d1",
   "metadata": {},
   "outputs": [],
   "source": [
    "facility_located, facility_demand_covered  =MaxCovering(zones, routes, demand, P)"
   ]
  },
  {
   "cell_type": "code",
   "execution_count": 4,
   "id": "c8d274b9",
   "metadata": {},
   "outputs": [
    {
     "name": "stdout",
     "output_type": "stream",
     "text": [
      "['C', 'A'] [84, 36]\n"
     ]
    }
   ],
   "source": [
    "print(facility_located, facility_demand_covered )"
   ]
  }
 ],
 "metadata": {
  "kernelspec": {
   "display_name": "Python 3 (ipykernel)",
   "language": "python",
   "name": "python3"
  },
  "language_info": {
   "codemirror_mode": {
    "name": "ipython",
    "version": 3
   },
   "file_extension": ".py",
   "mimetype": "text/x-python",
   "name": "python",
   "nbconvert_exporter": "python",
   "pygments_lexer": "ipython3",
   "version": "3.9.7"
  }
 },
 "nbformat": 4,
 "nbformat_minor": 5
}
